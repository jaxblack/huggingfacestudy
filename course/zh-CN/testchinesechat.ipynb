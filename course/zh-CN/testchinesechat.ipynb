{
 "cells": [
  {
   "cell_type": "code",
   "execution_count": 1,
   "metadata": {},
   "outputs": [
    {
     "name": "stderr",
     "output_type": "stream",
     "text": [
      "/Users/jaxlee/Library/Python/3.9/lib/python/site-packages/urllib3/__init__.py:35: NotOpenSSLWarning: urllib3 v2 only supports OpenSSL 1.1.1+, currently the 'ssl' module is compiled with 'LibreSSL 2.8.3'. See: https://github.com/urllib3/urllib3/issues/3020\n",
      "  warnings.warn(\n",
      "/Users/jaxlee/Library/Python/3.9/lib/python/site-packages/tqdm/auto.py:21: TqdmWarning: IProgress not found. Please update jupyter and ipywidgets. See https://ipywidgets.readthedocs.io/en/stable/user_install.html\n",
      "  from .autonotebook import tqdm as notebook_tqdm\n"
     ]
    }
   ],
   "source": [
    "from transformers import AutoTokenizer, AutoModelForCausalLM\n",
    "\n",
    "model_id = \"shenzhi-wang/Llama3-8B-Chinese-Chat\"\n",
    "\n",
    "tokenizer = AutoTokenizer.from_pretrained(model_id)"
   ]
  },
  {
   "cell_type": "code",
   "execution_count": 2,
   "metadata": {},
   "outputs": [
    {
     "name": "stderr",
     "output_type": "stream",
     "text": [
      "Downloading shards:  25%|██▌       | 1/4 [13:44<41:13, 824.55s/it]Error while downloading from https://cdn-lfs-us-1.hf.co/repos/ef/49/ef49224b96bd395287f3aa56ce6942efdafb17b36ecbd7658cf44a026545668b/9cdf55d08047c5d194765091e4a18fc57efce796f5e41829f44b42daf3881b0f?response-content-disposition=inline%3B+filename*%3DUTF-8%27%27model-00002-of-00004.safetensors%3B+filename%3D%22model-00002-of-00004.safetensors%22%3B&Expires=1733328302&Policy=eyJTdGF0ZW1lbnQiOlt7IkNvbmRpdGlvbiI6eyJEYXRlTGVzc1RoYW4iOnsiQVdTOkVwb2NoVGltZSI6MTczMzMyODMwMn19LCJSZXNvdXJjZSI6Imh0dHBzOi8vY2RuLWxmcy11cy0xLmhmLmNvL3JlcG9zL2VmLzQ5L2VmNDkyMjRiOTZiZDM5NTI4N2YzYWE1NmNlNjk0MmVmZGFmYjE3YjM2ZWNiZDc2NThjZjQ0YTAyNjU0NTY2OGIvOWNkZjU1ZDA4MDQ3YzVkMTk0NzY1MDkxZTRhMThmYzU3ZWZjZTc5NmY1ZTQxODI5ZjQ0YjQyZGFmMzg4MWIwZj9yZXNwb25zZS1jb250ZW50LWRpc3Bvc2l0aW9uPSoifV19&Signature=kEmYGcUfucMcYv3Q9pzqtg6lUAeKyBGpMmGdTsH-4kOjSwKgKezePvXCSJBHUCpX87oGyYeJP8jqvm1SQ70m57InFKH5ZsYybTRYE5HYTKscU2H5B6z6lPQnFim9Q0q4go07x5PI6dlaVTA0JO16IU1FekeHzJJItXdBlkjGdywAN41s5pkEam-ukfVNrlZ7N8DeDMSScx1SUki2hE2cO1YlvaorQ-6cgPTfpjbjsv-M03bKKhs1G8zQGw7eAn%7EEaJdkINrbf3p8HlonkDy2qw79r5Fn6VuMkCkL%7Ebu-x3muU4fvsTOyjcT53x64M0ALQblCTA5xksHjrdZmHFMN1w__&Key-Pair-Id=K24J24Z295AEI9: HTTPSConnectionPool(host='cdn-lfs-us-1.hf.co', port=443): Read timed out.\n",
      "Trying to resume download...\n",
      "Error while downloading from https://cdn-lfs-us-1.hf.co/repos/ef/49/ef49224b96bd395287f3aa56ce6942efdafb17b36ecbd7658cf44a026545668b/9cdf55d08047c5d194765091e4a18fc57efce796f5e41829f44b42daf3881b0f?response-content-disposition=inline%3B+filename*%3DUTF-8%27%27model-00002-of-00004.safetensors%3B+filename%3D%22model-00002-of-00004.safetensors%22%3B&Expires=1733328302&Policy=eyJTdGF0ZW1lbnQiOlt7IkNvbmRpdGlvbiI6eyJEYXRlTGVzc1RoYW4iOnsiQVdTOkVwb2NoVGltZSI6MTczMzMyODMwMn19LCJSZXNvdXJjZSI6Imh0dHBzOi8vY2RuLWxmcy11cy0xLmhmLmNvL3JlcG9zL2VmLzQ5L2VmNDkyMjRiOTZiZDM5NTI4N2YzYWE1NmNlNjk0MmVmZGFmYjE3YjM2ZWNiZDc2NThjZjQ0YTAyNjU0NTY2OGIvOWNkZjU1ZDA4MDQ3YzVkMTk0NzY1MDkxZTRhMThmYzU3ZWZjZTc5NmY1ZTQxODI5ZjQ0YjQyZGFmMzg4MWIwZj9yZXNwb25zZS1jb250ZW50LWRpc3Bvc2l0aW9uPSoifV19&Signature=kEmYGcUfucMcYv3Q9pzqtg6lUAeKyBGpMmGdTsH-4kOjSwKgKezePvXCSJBHUCpX87oGyYeJP8jqvm1SQ70m57InFKH5ZsYybTRYE5HYTKscU2H5B6z6lPQnFim9Q0q4go07x5PI6dlaVTA0JO16IU1FekeHzJJItXdBlkjGdywAN41s5pkEam-ukfVNrlZ7N8DeDMSScx1SUki2hE2cO1YlvaorQ-6cgPTfpjbjsv-M03bKKhs1G8zQGw7eAn%7EEaJdkINrbf3p8HlonkDy2qw79r5Fn6VuMkCkL%7Ebu-x3muU4fvsTOyjcT53x64M0ALQblCTA5xksHjrdZmHFMN1w__&Key-Pair-Id=K24J24Z295AEI9: HTTPSConnectionPool(host='cdn-lfs-us-1.hf.co', port=443): Read timed out.\n",
      "Trying to resume download...\n",
      "Error while downloading from https://cdn-lfs-us-1.hf.co/repos/ef/49/ef49224b96bd395287f3aa56ce6942efdafb17b36ecbd7658cf44a026545668b/9cdf55d08047c5d194765091e4a18fc57efce796f5e41829f44b42daf3881b0f?response-content-disposition=inline%3B+filename*%3DUTF-8%27%27model-00002-of-00004.safetensors%3B+filename%3D%22model-00002-of-00004.safetensors%22%3B&Expires=1733328302&Policy=eyJTdGF0ZW1lbnQiOlt7IkNvbmRpdGlvbiI6eyJEYXRlTGVzc1RoYW4iOnsiQVdTOkVwb2NoVGltZSI6MTczMzMyODMwMn19LCJSZXNvdXJjZSI6Imh0dHBzOi8vY2RuLWxmcy11cy0xLmhmLmNvL3JlcG9zL2VmLzQ5L2VmNDkyMjRiOTZiZDM5NTI4N2YzYWE1NmNlNjk0MmVmZGFmYjE3YjM2ZWNiZDc2NThjZjQ0YTAyNjU0NTY2OGIvOWNkZjU1ZDA4MDQ3YzVkMTk0NzY1MDkxZTRhMThmYzU3ZWZjZTc5NmY1ZTQxODI5ZjQ0YjQyZGFmMzg4MWIwZj9yZXNwb25zZS1jb250ZW50LWRpc3Bvc2l0aW9uPSoifV19&Signature=kEmYGcUfucMcYv3Q9pzqtg6lUAeKyBGpMmGdTsH-4kOjSwKgKezePvXCSJBHUCpX87oGyYeJP8jqvm1SQ70m57InFKH5ZsYybTRYE5HYTKscU2H5B6z6lPQnFim9Q0q4go07x5PI6dlaVTA0JO16IU1FekeHzJJItXdBlkjGdywAN41s5pkEam-ukfVNrlZ7N8DeDMSScx1SUki2hE2cO1YlvaorQ-6cgPTfpjbjsv-M03bKKhs1G8zQGw7eAn%7EEaJdkINrbf3p8HlonkDy2qw79r5Fn6VuMkCkL%7Ebu-x3muU4fvsTOyjcT53x64M0ALQblCTA5xksHjrdZmHFMN1w__&Key-Pair-Id=K24J24Z295AEI9: HTTPSConnectionPool(host='cdn-lfs-us-1.hf.co', port=443): Read timed out.\n",
      "Trying to resume download...\n",
      "Error while downloading from https://cdn-lfs-us-1.hf.co/repos/ef/49/ef49224b96bd395287f3aa56ce6942efdafb17b36ecbd7658cf44a026545668b/9cdf55d08047c5d194765091e4a18fc57efce796f5e41829f44b42daf3881b0f?response-content-disposition=inline%3B+filename*%3DUTF-8%27%27model-00002-of-00004.safetensors%3B+filename%3D%22model-00002-of-00004.safetensors%22%3B&Expires=1733328302&Policy=eyJTdGF0ZW1lbnQiOlt7IkNvbmRpdGlvbiI6eyJEYXRlTGVzc1RoYW4iOnsiQVdTOkVwb2NoVGltZSI6MTczMzMyODMwMn19LCJSZXNvdXJjZSI6Imh0dHBzOi8vY2RuLWxmcy11cy0xLmhmLmNvL3JlcG9zL2VmLzQ5L2VmNDkyMjRiOTZiZDM5NTI4N2YzYWE1NmNlNjk0MmVmZGFmYjE3YjM2ZWNiZDc2NThjZjQ0YTAyNjU0NTY2OGIvOWNkZjU1ZDA4MDQ3YzVkMTk0NzY1MDkxZTRhMThmYzU3ZWZjZTc5NmY1ZTQxODI5ZjQ0YjQyZGFmMzg4MWIwZj9yZXNwb25zZS1jb250ZW50LWRpc3Bvc2l0aW9uPSoifV19&Signature=kEmYGcUfucMcYv3Q9pzqtg6lUAeKyBGpMmGdTsH-4kOjSwKgKezePvXCSJBHUCpX87oGyYeJP8jqvm1SQ70m57InFKH5ZsYybTRYE5HYTKscU2H5B6z6lPQnFim9Q0q4go07x5PI6dlaVTA0JO16IU1FekeHzJJItXdBlkjGdywAN41s5pkEam-ukfVNrlZ7N8DeDMSScx1SUki2hE2cO1YlvaorQ-6cgPTfpjbjsv-M03bKKhs1G8zQGw7eAn%7EEaJdkINrbf3p8HlonkDy2qw79r5Fn6VuMkCkL%7Ebu-x3muU4fvsTOyjcT53x64M0ALQblCTA5xksHjrdZmHFMN1w__&Key-Pair-Id=K24J24Z295AEI9: HTTPSConnectionPool(host='cdn-lfs-us-1.hf.co', port=443): Read timed out.\n",
      "Trying to resume download...\n",
      "Error while downloading from https://cdn-lfs-us-1.hf.co/repos/ef/49/ef49224b96bd395287f3aa56ce6942efdafb17b36ecbd7658cf44a026545668b/9cdf55d08047c5d194765091e4a18fc57efce796f5e41829f44b42daf3881b0f?response-content-disposition=inline%3B+filename*%3DUTF-8%27%27model-00002-of-00004.safetensors%3B+filename%3D%22model-00002-of-00004.safetensors%22%3B&Expires=1733328302&Policy=eyJTdGF0ZW1lbnQiOlt7IkNvbmRpdGlvbiI6eyJEYXRlTGVzc1RoYW4iOnsiQVdTOkVwb2NoVGltZSI6MTczMzMyODMwMn19LCJSZXNvdXJjZSI6Imh0dHBzOi8vY2RuLWxmcy11cy0xLmhmLmNvL3JlcG9zL2VmLzQ5L2VmNDkyMjRiOTZiZDM5NTI4N2YzYWE1NmNlNjk0MmVmZGFmYjE3YjM2ZWNiZDc2NThjZjQ0YTAyNjU0NTY2OGIvOWNkZjU1ZDA4MDQ3YzVkMTk0NzY1MDkxZTRhMThmYzU3ZWZjZTc5NmY1ZTQxODI5ZjQ0YjQyZGFmMzg4MWIwZj9yZXNwb25zZS1jb250ZW50LWRpc3Bvc2l0aW9uPSoifV19&Signature=kEmYGcUfucMcYv3Q9pzqtg6lUAeKyBGpMmGdTsH-4kOjSwKgKezePvXCSJBHUCpX87oGyYeJP8jqvm1SQ70m57InFKH5ZsYybTRYE5HYTKscU2H5B6z6lPQnFim9Q0q4go07x5PI6dlaVTA0JO16IU1FekeHzJJItXdBlkjGdywAN41s5pkEam-ukfVNrlZ7N8DeDMSScx1SUki2hE2cO1YlvaorQ-6cgPTfpjbjsv-M03bKKhs1G8zQGw7eAn%7EEaJdkINrbf3p8HlonkDy2qw79r5Fn6VuMkCkL%7Ebu-x3muU4fvsTOyjcT53x64M0ALQblCTA5xksHjrdZmHFMN1w__&Key-Pair-Id=K24J24Z295AEI9: HTTPSConnectionPool(host='cdn-lfs-us-1.hf.co', port=443): Read timed out.\n",
      "Trying to resume download...\n",
      "Error while downloading from https://cdn-lfs-us-1.hf.co/repos/ef/49/ef49224b96bd395287f3aa56ce6942efdafb17b36ecbd7658cf44a026545668b/9cdf55d08047c5d194765091e4a18fc57efce796f5e41829f44b42daf3881b0f?response-content-disposition=inline%3B+filename*%3DUTF-8%27%27model-00002-of-00004.safetensors%3B+filename%3D%22model-00002-of-00004.safetensors%22%3B&Expires=1733328302&Policy=eyJTdGF0ZW1lbnQiOlt7IkNvbmRpdGlvbiI6eyJEYXRlTGVzc1RoYW4iOnsiQVdTOkVwb2NoVGltZSI6MTczMzMyODMwMn19LCJSZXNvdXJjZSI6Imh0dHBzOi8vY2RuLWxmcy11cy0xLmhmLmNvL3JlcG9zL2VmLzQ5L2VmNDkyMjRiOTZiZDM5NTI4N2YzYWE1NmNlNjk0MmVmZGFmYjE3YjM2ZWNiZDc2NThjZjQ0YTAyNjU0NTY2OGIvOWNkZjU1ZDA4MDQ3YzVkMTk0NzY1MDkxZTRhMThmYzU3ZWZjZTc5NmY1ZTQxODI5ZjQ0YjQyZGFmMzg4MWIwZj9yZXNwb25zZS1jb250ZW50LWRpc3Bvc2l0aW9uPSoifV19&Signature=kEmYGcUfucMcYv3Q9pzqtg6lUAeKyBGpMmGdTsH-4kOjSwKgKezePvXCSJBHUCpX87oGyYeJP8jqvm1SQ70m57InFKH5ZsYybTRYE5HYTKscU2H5B6z6lPQnFim9Q0q4go07x5PI6dlaVTA0JO16IU1FekeHzJJItXdBlkjGdywAN41s5pkEam-ukfVNrlZ7N8DeDMSScx1SUki2hE2cO1YlvaorQ-6cgPTfpjbjsv-M03bKKhs1G8zQGw7eAn%7EEaJdkINrbf3p8HlonkDy2qw79r5Fn6VuMkCkL%7Ebu-x3muU4fvsTOyjcT53x64M0ALQblCTA5xksHjrdZmHFMN1w__&Key-Pair-Id=K24J24Z295AEI9: HTTPSConnectionPool(host='cdn-lfs-us-1.hf.co', port=443): Read timed out.\n",
      "Trying to resume download...\n",
      "Error while downloading from https://cdn-lfs-us-1.hf.co/repos/ef/49/ef49224b96bd395287f3aa56ce6942efdafb17b36ecbd7658cf44a026545668b/9cdf55d08047c5d194765091e4a18fc57efce796f5e41829f44b42daf3881b0f?response-content-disposition=inline%3B+filename*%3DUTF-8%27%27model-00002-of-00004.safetensors%3B+filename%3D%22model-00002-of-00004.safetensors%22%3B&Expires=1733328302&Policy=eyJTdGF0ZW1lbnQiOlt7IkNvbmRpdGlvbiI6eyJEYXRlTGVzc1RoYW4iOnsiQVdTOkVwb2NoVGltZSI6MTczMzMyODMwMn19LCJSZXNvdXJjZSI6Imh0dHBzOi8vY2RuLWxmcy11cy0xLmhmLmNvL3JlcG9zL2VmLzQ5L2VmNDkyMjRiOTZiZDM5NTI4N2YzYWE1NmNlNjk0MmVmZGFmYjE3YjM2ZWNiZDc2NThjZjQ0YTAyNjU0NTY2OGIvOWNkZjU1ZDA4MDQ3YzVkMTk0NzY1MDkxZTRhMThmYzU3ZWZjZTc5NmY1ZTQxODI5ZjQ0YjQyZGFmMzg4MWIwZj9yZXNwb25zZS1jb250ZW50LWRpc3Bvc2l0aW9uPSoifV19&Signature=kEmYGcUfucMcYv3Q9pzqtg6lUAeKyBGpMmGdTsH-4kOjSwKgKezePvXCSJBHUCpX87oGyYeJP8jqvm1SQ70m57InFKH5ZsYybTRYE5HYTKscU2H5B6z6lPQnFim9Q0q4go07x5PI6dlaVTA0JO16IU1FekeHzJJItXdBlkjGdywAN41s5pkEam-ukfVNrlZ7N8DeDMSScx1SUki2hE2cO1YlvaorQ-6cgPTfpjbjsv-M03bKKhs1G8zQGw7eAn%7EEaJdkINrbf3p8HlonkDy2qw79r5Fn6VuMkCkL%7Ebu-x3muU4fvsTOyjcT53x64M0ALQblCTA5xksHjrdZmHFMN1w__&Key-Pair-Id=K24J24Z295AEI9: HTTPSConnectionPool(host='cdn-lfs-us-1.hf.co', port=443): Read timed out.\n",
      "Trying to resume download...\n",
      "Error while downloading from https://cdn-lfs-us-1.hf.co/repos/ef/49/ef49224b96bd395287f3aa56ce6942efdafb17b36ecbd7658cf44a026545668b/9cdf55d08047c5d194765091e4a18fc57efce796f5e41829f44b42daf3881b0f?response-content-disposition=inline%3B+filename*%3DUTF-8%27%27model-00002-of-00004.safetensors%3B+filename%3D%22model-00002-of-00004.safetensors%22%3B&Expires=1733328302&Policy=eyJTdGF0ZW1lbnQiOlt7IkNvbmRpdGlvbiI6eyJEYXRlTGVzc1RoYW4iOnsiQVdTOkVwb2NoVGltZSI6MTczMzMyODMwMn19LCJSZXNvdXJjZSI6Imh0dHBzOi8vY2RuLWxmcy11cy0xLmhmLmNvL3JlcG9zL2VmLzQ5L2VmNDkyMjRiOTZiZDM5NTI4N2YzYWE1NmNlNjk0MmVmZGFmYjE3YjM2ZWNiZDc2NThjZjQ0YTAyNjU0NTY2OGIvOWNkZjU1ZDA4MDQ3YzVkMTk0NzY1MDkxZTRhMThmYzU3ZWZjZTc5NmY1ZTQxODI5ZjQ0YjQyZGFmMzg4MWIwZj9yZXNwb25zZS1jb250ZW50LWRpc3Bvc2l0aW9uPSoifV19&Signature=kEmYGcUfucMcYv3Q9pzqtg6lUAeKyBGpMmGdTsH-4kOjSwKgKezePvXCSJBHUCpX87oGyYeJP8jqvm1SQ70m57InFKH5ZsYybTRYE5HYTKscU2H5B6z6lPQnFim9Q0q4go07x5PI6dlaVTA0JO16IU1FekeHzJJItXdBlkjGdywAN41s5pkEam-ukfVNrlZ7N8DeDMSScx1SUki2hE2cO1YlvaorQ-6cgPTfpjbjsv-M03bKKhs1G8zQGw7eAn%7EEaJdkINrbf3p8HlonkDy2qw79r5Fn6VuMkCkL%7Ebu-x3muU4fvsTOyjcT53x64M0ALQblCTA5xksHjrdZmHFMN1w__&Key-Pair-Id=K24J24Z295AEI9: HTTPSConnectionPool(host='cdn-lfs-us-1.hf.co', port=443): Read timed out.\n",
      "Trying to resume download...\n",
      "Error while downloading from https://cdn-lfs-us-1.hf.co/repos/ef/49/ef49224b96bd395287f3aa56ce6942efdafb17b36ecbd7658cf44a026545668b/9cdf55d08047c5d194765091e4a18fc57efce796f5e41829f44b42daf3881b0f?response-content-disposition=inline%3B+filename*%3DUTF-8%27%27model-00002-of-00004.safetensors%3B+filename%3D%22model-00002-of-00004.safetensors%22%3B&Expires=1733328302&Policy=eyJTdGF0ZW1lbnQiOlt7IkNvbmRpdGlvbiI6eyJEYXRlTGVzc1RoYW4iOnsiQVdTOkVwb2NoVGltZSI6MTczMzMyODMwMn19LCJSZXNvdXJjZSI6Imh0dHBzOi8vY2RuLWxmcy11cy0xLmhmLmNvL3JlcG9zL2VmLzQ5L2VmNDkyMjRiOTZiZDM5NTI4N2YzYWE1NmNlNjk0MmVmZGFmYjE3YjM2ZWNiZDc2NThjZjQ0YTAyNjU0NTY2OGIvOWNkZjU1ZDA4MDQ3YzVkMTk0NzY1MDkxZTRhMThmYzU3ZWZjZTc5NmY1ZTQxODI5ZjQ0YjQyZGFmMzg4MWIwZj9yZXNwb25zZS1jb250ZW50LWRpc3Bvc2l0aW9uPSoifV19&Signature=kEmYGcUfucMcYv3Q9pzqtg6lUAeKyBGpMmGdTsH-4kOjSwKgKezePvXCSJBHUCpX87oGyYeJP8jqvm1SQ70m57InFKH5ZsYybTRYE5HYTKscU2H5B6z6lPQnFim9Q0q4go07x5PI6dlaVTA0JO16IU1FekeHzJJItXdBlkjGdywAN41s5pkEam-ukfVNrlZ7N8DeDMSScx1SUki2hE2cO1YlvaorQ-6cgPTfpjbjsv-M03bKKhs1G8zQGw7eAn%7EEaJdkINrbf3p8HlonkDy2qw79r5Fn6VuMkCkL%7Ebu-x3muU4fvsTOyjcT53x64M0ALQblCTA5xksHjrdZmHFMN1w__&Key-Pair-Id=K24J24Z295AEI9: HTTPSConnectionPool(host='cdn-lfs-us-1.hf.co', port=443): Read timed out.\n",
      "Trying to resume download...\n",
      "Downloading shards:  50%|█████     | 2/4 [2:52:35<3:18:12, 5946.18s/it]Error while downloading from https://cdn-lfs-us-1.hf.co/repos/ef/49/ef49224b96bd395287f3aa56ce6942efdafb17b36ecbd7658cf44a026545668b/c6f988c35fa2a7ae8acad84725419932a6485a7ac00496ac9211e1ce5420f908?response-content-disposition=inline%3B+filename*%3DUTF-8%27%27model-00003-of-00004.safetensors%3B+filename%3D%22model-00003-of-00004.safetensors%22%3B&Expires=1733337833&Policy=eyJTdGF0ZW1lbnQiOlt7IkNvbmRpdGlvbiI6eyJEYXRlTGVzc1RoYW4iOnsiQVdTOkVwb2NoVGltZSI6MTczMzMzNzgzM319LCJSZXNvdXJjZSI6Imh0dHBzOi8vY2RuLWxmcy11cy0xLmhmLmNvL3JlcG9zL2VmLzQ5L2VmNDkyMjRiOTZiZDM5NTI4N2YzYWE1NmNlNjk0MmVmZGFmYjE3YjM2ZWNiZDc2NThjZjQ0YTAyNjU0NTY2OGIvYzZmOTg4YzM1ZmEyYTdhZThhY2FkODQ3MjU0MTk5MzJhNjQ4NWE3YWMwMDQ5NmFjOTIxMWUxY2U1NDIwZjkwOD9yZXNwb25zZS1jb250ZW50LWRpc3Bvc2l0aW9uPSoifV19&Signature=kdv1ZPQo6jtr8vccAvsvAxKaQyHbK8BiWjLYdHvB6QjfU433mKSLomPVkeUx3CDfbjvbRtTRlakvibQFI2%7EELMgSmFuDfjnhWQ5BKeayAJxS0BzvCoGxgkTthMOn2qnejiNz6nXRI1dzEzPYmXTXpQ2fXlgLe5vhDu0kSmbCM1jU%7EcI1Qem8TXadCr0c4YpJ0rI81NpifspyXnWGV36tY-%7Evddd6LfvXTbYLzdUHyqhwHR5MdvlgN2dj8d22ssJNMOnUKO9MnuFDoxKIBl7iN1SFuge0WPkfdyR9%7EB0ZuQYGClP2HX9wmi8a5oiZrYPH72or7xcB7ANTJB7egbi0lw__&Key-Pair-Id=K24J24Z295AEI9: HTTPSConnectionPool(host='cdn-lfs-us-1.hf.co', port=443): Read timed out.\n",
      "Trying to resume download...\n",
      "Error while downloading from https://cdn-lfs-us-1.hf.co/repos/ef/49/ef49224b96bd395287f3aa56ce6942efdafb17b36ecbd7658cf44a026545668b/c6f988c35fa2a7ae8acad84725419932a6485a7ac00496ac9211e1ce5420f908?response-content-disposition=inline%3B+filename*%3DUTF-8%27%27model-00003-of-00004.safetensors%3B+filename%3D%22model-00003-of-00004.safetensors%22%3B&Expires=1733337833&Policy=eyJTdGF0ZW1lbnQiOlt7IkNvbmRpdGlvbiI6eyJEYXRlTGVzc1RoYW4iOnsiQVdTOkVwb2NoVGltZSI6MTczMzMzNzgzM319LCJSZXNvdXJjZSI6Imh0dHBzOi8vY2RuLWxmcy11cy0xLmhmLmNvL3JlcG9zL2VmLzQ5L2VmNDkyMjRiOTZiZDM5NTI4N2YzYWE1NmNlNjk0MmVmZGFmYjE3YjM2ZWNiZDc2NThjZjQ0YTAyNjU0NTY2OGIvYzZmOTg4YzM1ZmEyYTdhZThhY2FkODQ3MjU0MTk5MzJhNjQ4NWE3YWMwMDQ5NmFjOTIxMWUxY2U1NDIwZjkwOD9yZXNwb25zZS1jb250ZW50LWRpc3Bvc2l0aW9uPSoifV19&Signature=kdv1ZPQo6jtr8vccAvsvAxKaQyHbK8BiWjLYdHvB6QjfU433mKSLomPVkeUx3CDfbjvbRtTRlakvibQFI2%7EELMgSmFuDfjnhWQ5BKeayAJxS0BzvCoGxgkTthMOn2qnejiNz6nXRI1dzEzPYmXTXpQ2fXlgLe5vhDu0kSmbCM1jU%7EcI1Qem8TXadCr0c4YpJ0rI81NpifspyXnWGV36tY-%7Evddd6LfvXTbYLzdUHyqhwHR5MdvlgN2dj8d22ssJNMOnUKO9MnuFDoxKIBl7iN1SFuge0WPkfdyR9%7EB0ZuQYGClP2HX9wmi8a5oiZrYPH72or7xcB7ANTJB7egbi0lw__&Key-Pair-Id=K24J24Z295AEI9: HTTPSConnectionPool(host='cdn-lfs-us-1.hf.co', port=443): Read timed out.\n",
      "Trying to resume download...\n",
      "Error while downloading from https://cdn-lfs-us-1.hf.co/repos/ef/49/ef49224b96bd395287f3aa56ce6942efdafb17b36ecbd7658cf44a026545668b/c6f988c35fa2a7ae8acad84725419932a6485a7ac00496ac9211e1ce5420f908?response-content-disposition=inline%3B+filename*%3DUTF-8%27%27model-00003-of-00004.safetensors%3B+filename%3D%22model-00003-of-00004.safetensors%22%3B&Expires=1733337833&Policy=eyJTdGF0ZW1lbnQiOlt7IkNvbmRpdGlvbiI6eyJEYXRlTGVzc1RoYW4iOnsiQVdTOkVwb2NoVGltZSI6MTczMzMzNzgzM319LCJSZXNvdXJjZSI6Imh0dHBzOi8vY2RuLWxmcy11cy0xLmhmLmNvL3JlcG9zL2VmLzQ5L2VmNDkyMjRiOTZiZDM5NTI4N2YzYWE1NmNlNjk0MmVmZGFmYjE3YjM2ZWNiZDc2NThjZjQ0YTAyNjU0NTY2OGIvYzZmOTg4YzM1ZmEyYTdhZThhY2FkODQ3MjU0MTk5MzJhNjQ4NWE3YWMwMDQ5NmFjOTIxMWUxY2U1NDIwZjkwOD9yZXNwb25zZS1jb250ZW50LWRpc3Bvc2l0aW9uPSoifV19&Signature=kdv1ZPQo6jtr8vccAvsvAxKaQyHbK8BiWjLYdHvB6QjfU433mKSLomPVkeUx3CDfbjvbRtTRlakvibQFI2%7EELMgSmFuDfjnhWQ5BKeayAJxS0BzvCoGxgkTthMOn2qnejiNz6nXRI1dzEzPYmXTXpQ2fXlgLe5vhDu0kSmbCM1jU%7EcI1Qem8TXadCr0c4YpJ0rI81NpifspyXnWGV36tY-%7Evddd6LfvXTbYLzdUHyqhwHR5MdvlgN2dj8d22ssJNMOnUKO9MnuFDoxKIBl7iN1SFuge0WPkfdyR9%7EB0ZuQYGClP2HX9wmi8a5oiZrYPH72or7xcB7ANTJB7egbi0lw__&Key-Pair-Id=K24J24Z295AEI9: HTTPSConnectionPool(host='cdn-lfs-us-1.hf.co', port=443): Read timed out.\n",
      "Trying to resume download...\n",
      "Error while downloading from https://cdn-lfs-us-1.hf.co/repos/ef/49/ef49224b96bd395287f3aa56ce6942efdafb17b36ecbd7658cf44a026545668b/c6f988c35fa2a7ae8acad84725419932a6485a7ac00496ac9211e1ce5420f908?response-content-disposition=inline%3B+filename*%3DUTF-8%27%27model-00003-of-00004.safetensors%3B+filename%3D%22model-00003-of-00004.safetensors%22%3B&Expires=1733337833&Policy=eyJTdGF0ZW1lbnQiOlt7IkNvbmRpdGlvbiI6eyJEYXRlTGVzc1RoYW4iOnsiQVdTOkVwb2NoVGltZSI6MTczMzMzNzgzM319LCJSZXNvdXJjZSI6Imh0dHBzOi8vY2RuLWxmcy11cy0xLmhmLmNvL3JlcG9zL2VmLzQ5L2VmNDkyMjRiOTZiZDM5NTI4N2YzYWE1NmNlNjk0MmVmZGFmYjE3YjM2ZWNiZDc2NThjZjQ0YTAyNjU0NTY2OGIvYzZmOTg4YzM1ZmEyYTdhZThhY2FkODQ3MjU0MTk5MzJhNjQ4NWE3YWMwMDQ5NmFjOTIxMWUxY2U1NDIwZjkwOD9yZXNwb25zZS1jb250ZW50LWRpc3Bvc2l0aW9uPSoifV19&Signature=kdv1ZPQo6jtr8vccAvsvAxKaQyHbK8BiWjLYdHvB6QjfU433mKSLomPVkeUx3CDfbjvbRtTRlakvibQFI2%7EELMgSmFuDfjnhWQ5BKeayAJxS0BzvCoGxgkTthMOn2qnejiNz6nXRI1dzEzPYmXTXpQ2fXlgLe5vhDu0kSmbCM1jU%7EcI1Qem8TXadCr0c4YpJ0rI81NpifspyXnWGV36tY-%7Evddd6LfvXTbYLzdUHyqhwHR5MdvlgN2dj8d22ssJNMOnUKO9MnuFDoxKIBl7iN1SFuge0WPkfdyR9%7EB0ZuQYGClP2HX9wmi8a5oiZrYPH72or7xcB7ANTJB7egbi0lw__&Key-Pair-Id=K24J24Z295AEI9: HTTPSConnectionPool(host='cdn-lfs-us-1.hf.co', port=443): Read timed out.\n",
      "Trying to resume download...\n",
      "Error while downloading from https://cdn-lfs-us-1.hf.co/repos/ef/49/ef49224b96bd395287f3aa56ce6942efdafb17b36ecbd7658cf44a026545668b/c6f988c35fa2a7ae8acad84725419932a6485a7ac00496ac9211e1ce5420f908?response-content-disposition=inline%3B+filename*%3DUTF-8%27%27model-00003-of-00004.safetensors%3B+filename%3D%22model-00003-of-00004.safetensors%22%3B&Expires=1733337833&Policy=eyJTdGF0ZW1lbnQiOlt7IkNvbmRpdGlvbiI6eyJEYXRlTGVzc1RoYW4iOnsiQVdTOkVwb2NoVGltZSI6MTczMzMzNzgzM319LCJSZXNvdXJjZSI6Imh0dHBzOi8vY2RuLWxmcy11cy0xLmhmLmNvL3JlcG9zL2VmLzQ5L2VmNDkyMjRiOTZiZDM5NTI4N2YzYWE1NmNlNjk0MmVmZGFmYjE3YjM2ZWNiZDc2NThjZjQ0YTAyNjU0NTY2OGIvYzZmOTg4YzM1ZmEyYTdhZThhY2FkODQ3MjU0MTk5MzJhNjQ4NWE3YWMwMDQ5NmFjOTIxMWUxY2U1NDIwZjkwOD9yZXNwb25zZS1jb250ZW50LWRpc3Bvc2l0aW9uPSoifV19&Signature=kdv1ZPQo6jtr8vccAvsvAxKaQyHbK8BiWjLYdHvB6QjfU433mKSLomPVkeUx3CDfbjvbRtTRlakvibQFI2%7EELMgSmFuDfjnhWQ5BKeayAJxS0BzvCoGxgkTthMOn2qnejiNz6nXRI1dzEzPYmXTXpQ2fXlgLe5vhDu0kSmbCM1jU%7EcI1Qem8TXadCr0c4YpJ0rI81NpifspyXnWGV36tY-%7Evddd6LfvXTbYLzdUHyqhwHR5MdvlgN2dj8d22ssJNMOnUKO9MnuFDoxKIBl7iN1SFuge0WPkfdyR9%7EB0ZuQYGClP2HX9wmi8a5oiZrYPH72or7xcB7ANTJB7egbi0lw__&Key-Pair-Id=K24J24Z295AEI9: HTTPSConnectionPool(host='cdn-lfs-us-1.hf.co', port=443): Read timed out.\n",
      "Trying to resume download...\n",
      "Error while downloading from https://cdn-lfs-us-1.hf.co/repos/ef/49/ef49224b96bd395287f3aa56ce6942efdafb17b36ecbd7658cf44a026545668b/c6f988c35fa2a7ae8acad84725419932a6485a7ac00496ac9211e1ce5420f908?response-content-disposition=inline%3B+filename*%3DUTF-8%27%27model-00003-of-00004.safetensors%3B+filename%3D%22model-00003-of-00004.safetensors%22%3B&Expires=1733337833&Policy=eyJTdGF0ZW1lbnQiOlt7IkNvbmRpdGlvbiI6eyJEYXRlTGVzc1RoYW4iOnsiQVdTOkVwb2NoVGltZSI6MTczMzMzNzgzM319LCJSZXNvdXJjZSI6Imh0dHBzOi8vY2RuLWxmcy11cy0xLmhmLmNvL3JlcG9zL2VmLzQ5L2VmNDkyMjRiOTZiZDM5NTI4N2YzYWE1NmNlNjk0MmVmZGFmYjE3YjM2ZWNiZDc2NThjZjQ0YTAyNjU0NTY2OGIvYzZmOTg4YzM1ZmEyYTdhZThhY2FkODQ3MjU0MTk5MzJhNjQ4NWE3YWMwMDQ5NmFjOTIxMWUxY2U1NDIwZjkwOD9yZXNwb25zZS1jb250ZW50LWRpc3Bvc2l0aW9uPSoifV19&Signature=kdv1ZPQo6jtr8vccAvsvAxKaQyHbK8BiWjLYdHvB6QjfU433mKSLomPVkeUx3CDfbjvbRtTRlakvibQFI2%7EELMgSmFuDfjnhWQ5BKeayAJxS0BzvCoGxgkTthMOn2qnejiNz6nXRI1dzEzPYmXTXpQ2fXlgLe5vhDu0kSmbCM1jU%7EcI1Qem8TXadCr0c4YpJ0rI81NpifspyXnWGV36tY-%7Evddd6LfvXTbYLzdUHyqhwHR5MdvlgN2dj8d22ssJNMOnUKO9MnuFDoxKIBl7iN1SFuge0WPkfdyR9%7EB0ZuQYGClP2HX9wmi8a5oiZrYPH72or7xcB7ANTJB7egbi0lw__&Key-Pair-Id=K24J24Z295AEI9: HTTPSConnectionPool(host='cdn-lfs-us-1.hf.co', port=443): Read timed out.\n",
      "Trying to resume download...\n",
      "Error while downloading from https://cdn-lfs-us-1.hf.co/repos/ef/49/ef49224b96bd395287f3aa56ce6942efdafb17b36ecbd7658cf44a026545668b/c6f988c35fa2a7ae8acad84725419932a6485a7ac00496ac9211e1ce5420f908?response-content-disposition=inline%3B+filename*%3DUTF-8%27%27model-00003-of-00004.safetensors%3B+filename%3D%22model-00003-of-00004.safetensors%22%3B&Expires=1733337833&Policy=eyJTdGF0ZW1lbnQiOlt7IkNvbmRpdGlvbiI6eyJEYXRlTGVzc1RoYW4iOnsiQVdTOkVwb2NoVGltZSI6MTczMzMzNzgzM319LCJSZXNvdXJjZSI6Imh0dHBzOi8vY2RuLWxmcy11cy0xLmhmLmNvL3JlcG9zL2VmLzQ5L2VmNDkyMjRiOTZiZDM5NTI4N2YzYWE1NmNlNjk0MmVmZGFmYjE3YjM2ZWNiZDc2NThjZjQ0YTAyNjU0NTY2OGIvYzZmOTg4YzM1ZmEyYTdhZThhY2FkODQ3MjU0MTk5MzJhNjQ4NWE3YWMwMDQ5NmFjOTIxMWUxY2U1NDIwZjkwOD9yZXNwb25zZS1jb250ZW50LWRpc3Bvc2l0aW9uPSoifV19&Signature=kdv1ZPQo6jtr8vccAvsvAxKaQyHbK8BiWjLYdHvB6QjfU433mKSLomPVkeUx3CDfbjvbRtTRlakvibQFI2%7EELMgSmFuDfjnhWQ5BKeayAJxS0BzvCoGxgkTthMOn2qnejiNz6nXRI1dzEzPYmXTXpQ2fXlgLe5vhDu0kSmbCM1jU%7EcI1Qem8TXadCr0c4YpJ0rI81NpifspyXnWGV36tY-%7Evddd6LfvXTbYLzdUHyqhwHR5MdvlgN2dj8d22ssJNMOnUKO9MnuFDoxKIBl7iN1SFuge0WPkfdyR9%7EB0ZuQYGClP2HX9wmi8a5oiZrYPH72or7xcB7ANTJB7egbi0lw__&Key-Pair-Id=K24J24Z295AEI9: HTTPSConnectionPool(host='cdn-lfs-us-1.hf.co', port=443): Read timed out.\n",
      "Trying to resume download...\n",
      "Error while downloading from https://cdn-lfs-us-1.hf.co/repos/ef/49/ef49224b96bd395287f3aa56ce6942efdafb17b36ecbd7658cf44a026545668b/c6f988c35fa2a7ae8acad84725419932a6485a7ac00496ac9211e1ce5420f908?response-content-disposition=inline%3B+filename*%3DUTF-8%27%27model-00003-of-00004.safetensors%3B+filename%3D%22model-00003-of-00004.safetensors%22%3B&Expires=1733337833&Policy=eyJTdGF0ZW1lbnQiOlt7IkNvbmRpdGlvbiI6eyJEYXRlTGVzc1RoYW4iOnsiQVdTOkVwb2NoVGltZSI6MTczMzMzNzgzM319LCJSZXNvdXJjZSI6Imh0dHBzOi8vY2RuLWxmcy11cy0xLmhmLmNvL3JlcG9zL2VmLzQ5L2VmNDkyMjRiOTZiZDM5NTI4N2YzYWE1NmNlNjk0MmVmZGFmYjE3YjM2ZWNiZDc2NThjZjQ0YTAyNjU0NTY2OGIvYzZmOTg4YzM1ZmEyYTdhZThhY2FkODQ3MjU0MTk5MzJhNjQ4NWE3YWMwMDQ5NmFjOTIxMWUxY2U1NDIwZjkwOD9yZXNwb25zZS1jb250ZW50LWRpc3Bvc2l0aW9uPSoifV19&Signature=kdv1ZPQo6jtr8vccAvsvAxKaQyHbK8BiWjLYdHvB6QjfU433mKSLomPVkeUx3CDfbjvbRtTRlakvibQFI2%7EELMgSmFuDfjnhWQ5BKeayAJxS0BzvCoGxgkTthMOn2qnejiNz6nXRI1dzEzPYmXTXpQ2fXlgLe5vhDu0kSmbCM1jU%7EcI1Qem8TXadCr0c4YpJ0rI81NpifspyXnWGV36tY-%7Evddd6LfvXTbYLzdUHyqhwHR5MdvlgN2dj8d22ssJNMOnUKO9MnuFDoxKIBl7iN1SFuge0WPkfdyR9%7EB0ZuQYGClP2HX9wmi8a5oiZrYPH72or7xcB7ANTJB7egbi0lw__&Key-Pair-Id=K24J24Z295AEI9: HTTPSConnectionPool(host='cdn-lfs-us-1.hf.co', port=443): Read timed out.\n",
      "Trying to resume download...\n",
      "Error while downloading from https://cdn-lfs-us-1.hf.co/repos/ef/49/ef49224b96bd395287f3aa56ce6942efdafb17b36ecbd7658cf44a026545668b/c6f988c35fa2a7ae8acad84725419932a6485a7ac00496ac9211e1ce5420f908?response-content-disposition=inline%3B+filename*%3DUTF-8%27%27model-00003-of-00004.safetensors%3B+filename%3D%22model-00003-of-00004.safetensors%22%3B&Expires=1733337833&Policy=eyJTdGF0ZW1lbnQiOlt7IkNvbmRpdGlvbiI6eyJEYXRlTGVzc1RoYW4iOnsiQVdTOkVwb2NoVGltZSI6MTczMzMzNzgzM319LCJSZXNvdXJjZSI6Imh0dHBzOi8vY2RuLWxmcy11cy0xLmhmLmNvL3JlcG9zL2VmLzQ5L2VmNDkyMjRiOTZiZDM5NTI4N2YzYWE1NmNlNjk0MmVmZGFmYjE3YjM2ZWNiZDc2NThjZjQ0YTAyNjU0NTY2OGIvYzZmOTg4YzM1ZmEyYTdhZThhY2FkODQ3MjU0MTk5MzJhNjQ4NWE3YWMwMDQ5NmFjOTIxMWUxY2U1NDIwZjkwOD9yZXNwb25zZS1jb250ZW50LWRpc3Bvc2l0aW9uPSoifV19&Signature=kdv1ZPQo6jtr8vccAvsvAxKaQyHbK8BiWjLYdHvB6QjfU433mKSLomPVkeUx3CDfbjvbRtTRlakvibQFI2%7EELMgSmFuDfjnhWQ5BKeayAJxS0BzvCoGxgkTthMOn2qnejiNz6nXRI1dzEzPYmXTXpQ2fXlgLe5vhDu0kSmbCM1jU%7EcI1Qem8TXadCr0c4YpJ0rI81NpifspyXnWGV36tY-%7Evddd6LfvXTbYLzdUHyqhwHR5MdvlgN2dj8d22ssJNMOnUKO9MnuFDoxKIBl7iN1SFuge0WPkfdyR9%7EB0ZuQYGClP2HX9wmi8a5oiZrYPH72or7xcB7ANTJB7egbi0lw__&Key-Pair-Id=K24J24Z295AEI9: HTTPSConnectionPool(host='cdn-lfs-us-1.hf.co', port=443): Read timed out.\n",
      "Trying to resume download...\n",
      "Error while downloading from https://cdn-lfs-us-1.hf.co/repos/ef/49/ef49224b96bd395287f3aa56ce6942efdafb17b36ecbd7658cf44a026545668b/c6f988c35fa2a7ae8acad84725419932a6485a7ac00496ac9211e1ce5420f908?response-content-disposition=inline%3B+filename*%3DUTF-8%27%27model-00003-of-00004.safetensors%3B+filename%3D%22model-00003-of-00004.safetensors%22%3B&Expires=1733337833&Policy=eyJTdGF0ZW1lbnQiOlt7IkNvbmRpdGlvbiI6eyJEYXRlTGVzc1RoYW4iOnsiQVdTOkVwb2NoVGltZSI6MTczMzMzNzgzM319LCJSZXNvdXJjZSI6Imh0dHBzOi8vY2RuLWxmcy11cy0xLmhmLmNvL3JlcG9zL2VmLzQ5L2VmNDkyMjRiOTZiZDM5NTI4N2YzYWE1NmNlNjk0MmVmZGFmYjE3YjM2ZWNiZDc2NThjZjQ0YTAyNjU0NTY2OGIvYzZmOTg4YzM1ZmEyYTdhZThhY2FkODQ3MjU0MTk5MzJhNjQ4NWE3YWMwMDQ5NmFjOTIxMWUxY2U1NDIwZjkwOD9yZXNwb25zZS1jb250ZW50LWRpc3Bvc2l0aW9uPSoifV19&Signature=kdv1ZPQo6jtr8vccAvsvAxKaQyHbK8BiWjLYdHvB6QjfU433mKSLomPVkeUx3CDfbjvbRtTRlakvibQFI2%7EELMgSmFuDfjnhWQ5BKeayAJxS0BzvCoGxgkTthMOn2qnejiNz6nXRI1dzEzPYmXTXpQ2fXlgLe5vhDu0kSmbCM1jU%7EcI1Qem8TXadCr0c4YpJ0rI81NpifspyXnWGV36tY-%7Evddd6LfvXTbYLzdUHyqhwHR5MdvlgN2dj8d22ssJNMOnUKO9MnuFDoxKIBl7iN1SFuge0WPkfdyR9%7EB0ZuQYGClP2HX9wmi8a5oiZrYPH72or7xcB7ANTJB7egbi0lw__&Key-Pair-Id=K24J24Z295AEI9: HTTPSConnectionPool(host='cdn-lfs-us-1.hf.co', port=443): Read timed out.\n",
      "Trying to resume download...\n",
      "Error while downloading from https://cdn-lfs-us-1.hf.co/repos/ef/49/ef49224b96bd395287f3aa56ce6942efdafb17b36ecbd7658cf44a026545668b/c6f988c35fa2a7ae8acad84725419932a6485a7ac00496ac9211e1ce5420f908?response-content-disposition=inline%3B+filename*%3DUTF-8%27%27model-00003-of-00004.safetensors%3B+filename%3D%22model-00003-of-00004.safetensors%22%3B&Expires=1733337833&Policy=eyJTdGF0ZW1lbnQiOlt7IkNvbmRpdGlvbiI6eyJEYXRlTGVzc1RoYW4iOnsiQVdTOkVwb2NoVGltZSI6MTczMzMzNzgzM319LCJSZXNvdXJjZSI6Imh0dHBzOi8vY2RuLWxmcy11cy0xLmhmLmNvL3JlcG9zL2VmLzQ5L2VmNDkyMjRiOTZiZDM5NTI4N2YzYWE1NmNlNjk0MmVmZGFmYjE3YjM2ZWNiZDc2NThjZjQ0YTAyNjU0NTY2OGIvYzZmOTg4YzM1ZmEyYTdhZThhY2FkODQ3MjU0MTk5MzJhNjQ4NWE3YWMwMDQ5NmFjOTIxMWUxY2U1NDIwZjkwOD9yZXNwb25zZS1jb250ZW50LWRpc3Bvc2l0aW9uPSoifV19&Signature=kdv1ZPQo6jtr8vccAvsvAxKaQyHbK8BiWjLYdHvB6QjfU433mKSLomPVkeUx3CDfbjvbRtTRlakvibQFI2%7EELMgSmFuDfjnhWQ5BKeayAJxS0BzvCoGxgkTthMOn2qnejiNz6nXRI1dzEzPYmXTXpQ2fXlgLe5vhDu0kSmbCM1jU%7EcI1Qem8TXadCr0c4YpJ0rI81NpifspyXnWGV36tY-%7Evddd6LfvXTbYLzdUHyqhwHR5MdvlgN2dj8d22ssJNMOnUKO9MnuFDoxKIBl7iN1SFuge0WPkfdyR9%7EB0ZuQYGClP2HX9wmi8a5oiZrYPH72or7xcB7ANTJB7egbi0lw__&Key-Pair-Id=K24J24Z295AEI9: HTTPSConnectionPool(host='cdn-lfs-us-1.hf.co', port=443): Read timed out.\n",
      "Trying to resume download...\n",
      "Error while downloading from https://cdn-lfs-us-1.hf.co/repos/ef/49/ef49224b96bd395287f3aa56ce6942efdafb17b36ecbd7658cf44a026545668b/c6f988c35fa2a7ae8acad84725419932a6485a7ac00496ac9211e1ce5420f908?response-content-disposition=inline%3B+filename*%3DUTF-8%27%27model-00003-of-00004.safetensors%3B+filename%3D%22model-00003-of-00004.safetensors%22%3B&Expires=1733337833&Policy=eyJTdGF0ZW1lbnQiOlt7IkNvbmRpdGlvbiI6eyJEYXRlTGVzc1RoYW4iOnsiQVdTOkVwb2NoVGltZSI6MTczMzMzNzgzM319LCJSZXNvdXJjZSI6Imh0dHBzOi8vY2RuLWxmcy11cy0xLmhmLmNvL3JlcG9zL2VmLzQ5L2VmNDkyMjRiOTZiZDM5NTI4N2YzYWE1NmNlNjk0MmVmZGFmYjE3YjM2ZWNiZDc2NThjZjQ0YTAyNjU0NTY2OGIvYzZmOTg4YzM1ZmEyYTdhZThhY2FkODQ3MjU0MTk5MzJhNjQ4NWE3YWMwMDQ5NmFjOTIxMWUxY2U1NDIwZjkwOD9yZXNwb25zZS1jb250ZW50LWRpc3Bvc2l0aW9uPSoifV19&Signature=kdv1ZPQo6jtr8vccAvsvAxKaQyHbK8BiWjLYdHvB6QjfU433mKSLomPVkeUx3CDfbjvbRtTRlakvibQFI2%7EELMgSmFuDfjnhWQ5BKeayAJxS0BzvCoGxgkTthMOn2qnejiNz6nXRI1dzEzPYmXTXpQ2fXlgLe5vhDu0kSmbCM1jU%7EcI1Qem8TXadCr0c4YpJ0rI81NpifspyXnWGV36tY-%7Evddd6LfvXTbYLzdUHyqhwHR5MdvlgN2dj8d22ssJNMOnUKO9MnuFDoxKIBl7iN1SFuge0WPkfdyR9%7EB0ZuQYGClP2HX9wmi8a5oiZrYPH72or7xcB7ANTJB7egbi0lw__&Key-Pair-Id=K24J24Z295AEI9: HTTPSConnectionPool(host='cdn-lfs-us-1.hf.co', port=443): Read timed out.\n",
      "Trying to resume download...\n",
      "Error while downloading from https://cdn-lfs-us-1.hf.co/repos/ef/49/ef49224b96bd395287f3aa56ce6942efdafb17b36ecbd7658cf44a026545668b/c6f988c35fa2a7ae8acad84725419932a6485a7ac00496ac9211e1ce5420f908?response-content-disposition=inline%3B+filename*%3DUTF-8%27%27model-00003-of-00004.safetensors%3B+filename%3D%22model-00003-of-00004.safetensors%22%3B&Expires=1733337833&Policy=eyJTdGF0ZW1lbnQiOlt7IkNvbmRpdGlvbiI6eyJEYXRlTGVzc1RoYW4iOnsiQVdTOkVwb2NoVGltZSI6MTczMzMzNzgzM319LCJSZXNvdXJjZSI6Imh0dHBzOi8vY2RuLWxmcy11cy0xLmhmLmNvL3JlcG9zL2VmLzQ5L2VmNDkyMjRiOTZiZDM5NTI4N2YzYWE1NmNlNjk0MmVmZGFmYjE3YjM2ZWNiZDc2NThjZjQ0YTAyNjU0NTY2OGIvYzZmOTg4YzM1ZmEyYTdhZThhY2FkODQ3MjU0MTk5MzJhNjQ4NWE3YWMwMDQ5NmFjOTIxMWUxY2U1NDIwZjkwOD9yZXNwb25zZS1jb250ZW50LWRpc3Bvc2l0aW9uPSoifV19&Signature=kdv1ZPQo6jtr8vccAvsvAxKaQyHbK8BiWjLYdHvB6QjfU433mKSLomPVkeUx3CDfbjvbRtTRlakvibQFI2%7EELMgSmFuDfjnhWQ5BKeayAJxS0BzvCoGxgkTthMOn2qnejiNz6nXRI1dzEzPYmXTXpQ2fXlgLe5vhDu0kSmbCM1jU%7EcI1Qem8TXadCr0c4YpJ0rI81NpifspyXnWGV36tY-%7Evddd6LfvXTbYLzdUHyqhwHR5MdvlgN2dj8d22ssJNMOnUKO9MnuFDoxKIBl7iN1SFuge0WPkfdyR9%7EB0ZuQYGClP2HX9wmi8a5oiZrYPH72or7xcB7ANTJB7egbi0lw__&Key-Pair-Id=K24J24Z295AEI9: HTTPSConnectionPool(host='cdn-lfs-us-1.hf.co', port=443): Read timed out.\n",
      "Trying to resume download...\n",
      "Error while downloading from https://cdn-lfs-us-1.hf.co/repos/ef/49/ef49224b96bd395287f3aa56ce6942efdafb17b36ecbd7658cf44a026545668b/c6f988c35fa2a7ae8acad84725419932a6485a7ac00496ac9211e1ce5420f908?response-content-disposition=inline%3B+filename*%3DUTF-8%27%27model-00003-of-00004.safetensors%3B+filename%3D%22model-00003-of-00004.safetensors%22%3B&Expires=1733337833&Policy=eyJTdGF0ZW1lbnQiOlt7IkNvbmRpdGlvbiI6eyJEYXRlTGVzc1RoYW4iOnsiQVdTOkVwb2NoVGltZSI6MTczMzMzNzgzM319LCJSZXNvdXJjZSI6Imh0dHBzOi8vY2RuLWxmcy11cy0xLmhmLmNvL3JlcG9zL2VmLzQ5L2VmNDkyMjRiOTZiZDM5NTI4N2YzYWE1NmNlNjk0MmVmZGFmYjE3YjM2ZWNiZDc2NThjZjQ0YTAyNjU0NTY2OGIvYzZmOTg4YzM1ZmEyYTdhZThhY2FkODQ3MjU0MTk5MzJhNjQ4NWE3YWMwMDQ5NmFjOTIxMWUxY2U1NDIwZjkwOD9yZXNwb25zZS1jb250ZW50LWRpc3Bvc2l0aW9uPSoifV19&Signature=kdv1ZPQo6jtr8vccAvsvAxKaQyHbK8BiWjLYdHvB6QjfU433mKSLomPVkeUx3CDfbjvbRtTRlakvibQFI2%7EELMgSmFuDfjnhWQ5BKeayAJxS0BzvCoGxgkTthMOn2qnejiNz6nXRI1dzEzPYmXTXpQ2fXlgLe5vhDu0kSmbCM1jU%7EcI1Qem8TXadCr0c4YpJ0rI81NpifspyXnWGV36tY-%7Evddd6LfvXTbYLzdUHyqhwHR5MdvlgN2dj8d22ssJNMOnUKO9MnuFDoxKIBl7iN1SFuge0WPkfdyR9%7EB0ZuQYGClP2HX9wmi8a5oiZrYPH72or7xcB7ANTJB7egbi0lw__&Key-Pair-Id=K24J24Z295AEI9: HTTPSConnectionPool(host='cdn-lfs-us-1.hf.co', port=443): Read timed out.\n",
      "Trying to resume download...\n",
      "Error while downloading from https://cdn-lfs-us-1.hf.co/repos/ef/49/ef49224b96bd395287f3aa56ce6942efdafb17b36ecbd7658cf44a026545668b/c6f988c35fa2a7ae8acad84725419932a6485a7ac00496ac9211e1ce5420f908?response-content-disposition=inline%3B+filename*%3DUTF-8%27%27model-00003-of-00004.safetensors%3B+filename%3D%22model-00003-of-00004.safetensors%22%3B&Expires=1733337833&Policy=eyJTdGF0ZW1lbnQiOlt7IkNvbmRpdGlvbiI6eyJEYXRlTGVzc1RoYW4iOnsiQVdTOkVwb2NoVGltZSI6MTczMzMzNzgzM319LCJSZXNvdXJjZSI6Imh0dHBzOi8vY2RuLWxmcy11cy0xLmhmLmNvL3JlcG9zL2VmLzQ5L2VmNDkyMjRiOTZiZDM5NTI4N2YzYWE1NmNlNjk0MmVmZGFmYjE3YjM2ZWNiZDc2NThjZjQ0YTAyNjU0NTY2OGIvYzZmOTg4YzM1ZmEyYTdhZThhY2FkODQ3MjU0MTk5MzJhNjQ4NWE3YWMwMDQ5NmFjOTIxMWUxY2U1NDIwZjkwOD9yZXNwb25zZS1jb250ZW50LWRpc3Bvc2l0aW9uPSoifV19&Signature=kdv1ZPQo6jtr8vccAvsvAxKaQyHbK8BiWjLYdHvB6QjfU433mKSLomPVkeUx3CDfbjvbRtTRlakvibQFI2%7EELMgSmFuDfjnhWQ5BKeayAJxS0BzvCoGxgkTthMOn2qnejiNz6nXRI1dzEzPYmXTXpQ2fXlgLe5vhDu0kSmbCM1jU%7EcI1Qem8TXadCr0c4YpJ0rI81NpifspyXnWGV36tY-%7Evddd6LfvXTbYLzdUHyqhwHR5MdvlgN2dj8d22ssJNMOnUKO9MnuFDoxKIBl7iN1SFuge0WPkfdyR9%7EB0ZuQYGClP2HX9wmi8a5oiZrYPH72or7xcB7ANTJB7egbi0lw__&Key-Pair-Id=K24J24Z295AEI9: HTTPSConnectionPool(host='cdn-lfs-us-1.hf.co', port=443): Read timed out.\n",
      "Trying to resume download...\n",
      "Error while downloading from https://cdn-lfs-us-1.hf.co/repos/ef/49/ef49224b96bd395287f3aa56ce6942efdafb17b36ecbd7658cf44a026545668b/c6f988c35fa2a7ae8acad84725419932a6485a7ac00496ac9211e1ce5420f908?response-content-disposition=inline%3B+filename*%3DUTF-8%27%27model-00003-of-00004.safetensors%3B+filename%3D%22model-00003-of-00004.safetensors%22%3B&Expires=1733337833&Policy=eyJTdGF0ZW1lbnQiOlt7IkNvbmRpdGlvbiI6eyJEYXRlTGVzc1RoYW4iOnsiQVdTOkVwb2NoVGltZSI6MTczMzMzNzgzM319LCJSZXNvdXJjZSI6Imh0dHBzOi8vY2RuLWxmcy11cy0xLmhmLmNvL3JlcG9zL2VmLzQ5L2VmNDkyMjRiOTZiZDM5NTI4N2YzYWE1NmNlNjk0MmVmZGFmYjE3YjM2ZWNiZDc2NThjZjQ0YTAyNjU0NTY2OGIvYzZmOTg4YzM1ZmEyYTdhZThhY2FkODQ3MjU0MTk5MzJhNjQ4NWE3YWMwMDQ5NmFjOTIxMWUxY2U1NDIwZjkwOD9yZXNwb25zZS1jb250ZW50LWRpc3Bvc2l0aW9uPSoifV19&Signature=kdv1ZPQo6jtr8vccAvsvAxKaQyHbK8BiWjLYdHvB6QjfU433mKSLomPVkeUx3CDfbjvbRtTRlakvibQFI2%7EELMgSmFuDfjnhWQ5BKeayAJxS0BzvCoGxgkTthMOn2qnejiNz6nXRI1dzEzPYmXTXpQ2fXlgLe5vhDu0kSmbCM1jU%7EcI1Qem8TXadCr0c4YpJ0rI81NpifspyXnWGV36tY-%7Evddd6LfvXTbYLzdUHyqhwHR5MdvlgN2dj8d22ssJNMOnUKO9MnuFDoxKIBl7iN1SFuge0WPkfdyR9%7EB0ZuQYGClP2HX9wmi8a5oiZrYPH72or7xcB7ANTJB7egbi0lw__&Key-Pair-Id=K24J24Z295AEI9: HTTPSConnectionPool(host='cdn-lfs-us-1.hf.co', port=443): Read timed out.\n",
      "Trying to resume download...\n",
      "Downloading shards:  75%|███████▌  | 3/4 [7:17:34<2:54:50, 10490.64s/it]Error while downloading from https://cdn-lfs-us-1.hf.co/repos/ef/49/ef49224b96bd395287f3aa56ce6942efdafb17b36ecbd7658cf44a026545668b/8eba45d9c38b937c39b03a23df9dcfb5b4165fa59c1a5d0f345a961434834a0c?response-content-disposition=inline%3B+filename*%3DUTF-8%27%27model-00004-of-00004.safetensors%3B+filename%3D%22model-00004-of-00004.safetensors%22%3B&Expires=1733353732&Policy=eyJTdGF0ZW1lbnQiOlt7IkNvbmRpdGlvbiI6eyJEYXRlTGVzc1RoYW4iOnsiQVdTOkVwb2NoVGltZSI6MTczMzM1MzczMn19LCJSZXNvdXJjZSI6Imh0dHBzOi8vY2RuLWxmcy11cy0xLmhmLmNvL3JlcG9zL2VmLzQ5L2VmNDkyMjRiOTZiZDM5NTI4N2YzYWE1NmNlNjk0MmVmZGFmYjE3YjM2ZWNiZDc2NThjZjQ0YTAyNjU0NTY2OGIvOGViYTQ1ZDljMzhiOTM3YzM5YjAzYTIzZGY5ZGNmYjViNDE2NWZhNTljMWE1ZDBmMzQ1YTk2MTQzNDgzNGEwYz9yZXNwb25zZS1jb250ZW50LWRpc3Bvc2l0aW9uPSoifV19&Signature=fshhfDUYaZ9kxc2mPHttMJyAwoAGjx%7Esb41GChGuPWO9xzUdPPVWYcz2mFCqhuj2oos0KjB7bImC40qByEG3y2ZvaPUJ78T8Vhr6n2MofKgIuhDB%7EW-SAYT6Jq3cjB5-Te0vURtD2CYEaG4GqD9GDkC5u5-nflB2Wue0nm1TJSmn3M-KWiBN%7EzYpk4tkrD6stW34BBSAAnz9TJ06fRnOq2Uaz-dI5Pr4byPZm8NlVGZuQu-jVNTcGjtwLmqhJZsSRr0uVOTG1NxoREn5lhNiuy%7Ebo2qGAmGr7JqpfzjEEVoPc8JxtBVXd4tTQKcACW30HgcCvIqmnPTJcKCoLrB4ag__&Key-Pair-Id=K24J24Z295AEI9: HTTPSConnectionPool(host='cdn-lfs-us-1.hf.co', port=443): Read timed out.\n",
      "Trying to resume download...\n",
      "Error while downloading from https://cdn-lfs-us-1.hf.co/repos/ef/49/ef49224b96bd395287f3aa56ce6942efdafb17b36ecbd7658cf44a026545668b/8eba45d9c38b937c39b03a23df9dcfb5b4165fa59c1a5d0f345a961434834a0c?response-content-disposition=inline%3B+filename*%3DUTF-8%27%27model-00004-of-00004.safetensors%3B+filename%3D%22model-00004-of-00004.safetensors%22%3B&Expires=1733353732&Policy=eyJTdGF0ZW1lbnQiOlt7IkNvbmRpdGlvbiI6eyJEYXRlTGVzc1RoYW4iOnsiQVdTOkVwb2NoVGltZSI6MTczMzM1MzczMn19LCJSZXNvdXJjZSI6Imh0dHBzOi8vY2RuLWxmcy11cy0xLmhmLmNvL3JlcG9zL2VmLzQ5L2VmNDkyMjRiOTZiZDM5NTI4N2YzYWE1NmNlNjk0MmVmZGFmYjE3YjM2ZWNiZDc2NThjZjQ0YTAyNjU0NTY2OGIvOGViYTQ1ZDljMzhiOTM3YzM5YjAzYTIzZGY5ZGNmYjViNDE2NWZhNTljMWE1ZDBmMzQ1YTk2MTQzNDgzNGEwYz9yZXNwb25zZS1jb250ZW50LWRpc3Bvc2l0aW9uPSoifV19&Signature=fshhfDUYaZ9kxc2mPHttMJyAwoAGjx%7Esb41GChGuPWO9xzUdPPVWYcz2mFCqhuj2oos0KjB7bImC40qByEG3y2ZvaPUJ78T8Vhr6n2MofKgIuhDB%7EW-SAYT6Jq3cjB5-Te0vURtD2CYEaG4GqD9GDkC5u5-nflB2Wue0nm1TJSmn3M-KWiBN%7EzYpk4tkrD6stW34BBSAAnz9TJ06fRnOq2Uaz-dI5Pr4byPZm8NlVGZuQu-jVNTcGjtwLmqhJZsSRr0uVOTG1NxoREn5lhNiuy%7Ebo2qGAmGr7JqpfzjEEVoPc8JxtBVXd4tTQKcACW30HgcCvIqmnPTJcKCoLrB4ag__&Key-Pair-Id=K24J24Z295AEI9: HTTPSConnectionPool(host='cdn-lfs-us-1.hf.co', port=443): Read timed out.\n",
      "Trying to resume download...\n",
      "Error while downloading from https://cdn-lfs-us-1.hf.co/repos/ef/49/ef49224b96bd395287f3aa56ce6942efdafb17b36ecbd7658cf44a026545668b/8eba45d9c38b937c39b03a23df9dcfb5b4165fa59c1a5d0f345a961434834a0c?response-content-disposition=inline%3B+filename*%3DUTF-8%27%27model-00004-of-00004.safetensors%3B+filename%3D%22model-00004-of-00004.safetensors%22%3B&Expires=1733353732&Policy=eyJTdGF0ZW1lbnQiOlt7IkNvbmRpdGlvbiI6eyJEYXRlTGVzc1RoYW4iOnsiQVdTOkVwb2NoVGltZSI6MTczMzM1MzczMn19LCJSZXNvdXJjZSI6Imh0dHBzOi8vY2RuLWxmcy11cy0xLmhmLmNvL3JlcG9zL2VmLzQ5L2VmNDkyMjRiOTZiZDM5NTI4N2YzYWE1NmNlNjk0MmVmZGFmYjE3YjM2ZWNiZDc2NThjZjQ0YTAyNjU0NTY2OGIvOGViYTQ1ZDljMzhiOTM3YzM5YjAzYTIzZGY5ZGNmYjViNDE2NWZhNTljMWE1ZDBmMzQ1YTk2MTQzNDgzNGEwYz9yZXNwb25zZS1jb250ZW50LWRpc3Bvc2l0aW9uPSoifV19&Signature=fshhfDUYaZ9kxc2mPHttMJyAwoAGjx%7Esb41GChGuPWO9xzUdPPVWYcz2mFCqhuj2oos0KjB7bImC40qByEG3y2ZvaPUJ78T8Vhr6n2MofKgIuhDB%7EW-SAYT6Jq3cjB5-Te0vURtD2CYEaG4GqD9GDkC5u5-nflB2Wue0nm1TJSmn3M-KWiBN%7EzYpk4tkrD6stW34BBSAAnz9TJ06fRnOq2Uaz-dI5Pr4byPZm8NlVGZuQu-jVNTcGjtwLmqhJZsSRr0uVOTG1NxoREn5lhNiuy%7Ebo2qGAmGr7JqpfzjEEVoPc8JxtBVXd4tTQKcACW30HgcCvIqmnPTJcKCoLrB4ag__&Key-Pair-Id=K24J24Z295AEI9: HTTPSConnectionPool(host='cdn-lfs-us-1.hf.co', port=443): Read timed out.\n",
      "Trying to resume download...\n",
      "Downloading shards: 100%|██████████| 4/4 [8:05:07<00:00, 7276.85s/it]   \n",
      "Loading checkpoint shards: 100%|██████████| 4/4 [00:04<00:00,  1.05s/it]\n",
      "Some parameters are on the meta device because they were offloaded to the disk.\n",
      "The attention mask is not set and cannot be inferred from input because pad token is same as eos token. As a consequence, you may observe unexpected behavior. Please pass your input's `attention_mask` to obtain reliable results.\n"
     ]
    },
    {
     "name": "stdout",
     "output_type": "stream",
     "text": [
      "春风拂面柳丝长，碧水潺潺鱼戏忙。\n",
      "山色悠悠隐云间，花香满径蜂舞忙。\n",
      "\n",
      "青山绿水间，人间美好多。\n",
      "悠然自得乐，心境平和多。\n",
      "\n",
      "月光洒银河，星辉点天涯。\n",
      "夜深人静中，思绪飘飘斜。\n",
      "\n",
      "岁月静好时，人生得意须尽欢。\n",
      "笑对风云变，心存感激颂。\n"
     ]
    }
   ],
   "source": [
    "model = AutoModelForCausalLM.from_pretrained(\n",
    "    model_id, torch_dtype=\"auto\", device_map=\"auto\"\n",
    ")\n",
    "\n",
    "messages = [\n",
    "    {\"role\": \"user\", \"content\": \"写一首诗吧\"},\n",
    "]\n",
    "\n",
    "input_ids = tokenizer.apply_chat_template(\n",
    "    messages, add_generation_prompt=True, return_tensors=\"pt\"\n",
    ").to(model.device)\n",
    "\n",
    "outputs = model.generate(\n",
    "    input_ids,\n",
    "    max_new_tokens=8192,\n",
    "    do_sample=True,\n",
    "    temperature=0.6,\n",
    "    top_p=0.9,\n",
    ")\n",
    "response = outputs[0][input_ids.shape[-1]:]\n",
    "print(tokenizer.decode(response, skip_special_tokens=True))\n"
   ]
  },
  {
   "cell_type": "code",
   "execution_count": 3,
   "metadata": {},
   "outputs": [
    {
     "name": "stdout",
     "output_type": "stream",
     "text": [
      "好的，如果你有任何关于上班的准备或者需要帮助的地方，请随时告诉我。祝你今天工作顺利，安全到达目的地。\n"
     ]
    }
   ],
   "source": [
    "messages = [\n",
    "    {\"role\": \"user\", \"content\": \"今天我要去上班了\"},\n",
    "]\n",
    "\n",
    "input_ids = tokenizer.apply_chat_template(\n",
    "    messages, add_generation_prompt=True, return_tensors=\"pt\"\n",
    ").to(model.device)\n",
    "\n",
    "outputs = model.generate(\n",
    "    input_ids,\n",
    "    max_new_tokens=8192,\n",
    "    do_sample=True,\n",
    "    temperature=0.6,\n",
    "    top_p=0.9,\n",
    ")\n",
    "response = outputs[0][input_ids.shape[-1]:]\n",
    "print(tokenizer.decode(response, skip_special_tokens=True))"
   ]
  },
  {
   "cell_type": "code",
   "execution_count": null,
   "metadata": {},
   "outputs": [
    {
     "name": "stdout",
     "output_type": "stream",
     "text": [
      "AI: 你好！有什么可以帮助你的吗？\n"
     ]
    }
   ],
   "source": [
    "# 初始化对话上下文\n",
    "messages = []\n",
    "\n",
    "def chat_with_model(user_input, messages):\n",
    "    # 添加用户输入到对话历史\n",
    "    messages.append({\"role\": \"user\", \"content\": user_input})\n",
    "    \n",
    "    # 将对话模板转换为模型输入\n",
    "    input_ids = tokenizer.apply_chat_template(\n",
    "        messages, add_generation_prompt=True, return_tensors=\"pt\"\n",
    "    ).to(model.device)\n",
    "    \n",
    "    # 模型生成响应\n",
    "    outputs = model.generate(\n",
    "        input_ids,\n",
    "        max_new_tokens=8192,  # 限制生成长度\n",
    "        do_sample=True,\n",
    "        temperature=0.6,\n",
    "        top_p=0.9,\n",
    "    )\n",
    "    \n",
    "    # 解码响应\n",
    "    response_ids = outputs[0][input_ids.shape[-1]:]\n",
    "    response = tokenizer.decode(response_ids, skip_special_tokens=True)\n",
    "    \n",
    "    # 添加模型响应到对话历史\n",
    "    messages.append({\"role\": \"assistant\", \"content\": response})\n",
    "    return response, messages\n",
    "\n",
    "# 示例对话\n",
    "while True:\n",
    "    user_input = input(\"你: \")  # 从用户获取输入\n",
    "    if user_input.lower() in [\"退出\", \"exit\"]:\n",
    "        print(\"对话结束！\")\n",
    "        break\n",
    "    response, messages = chat_with_model(user_input, messages)\n",
    "    print(f\"AI: {response}\")\n"
   ]
  }
 ],
 "metadata": {
  "kernelspec": {
   "display_name": "Python 3",
   "language": "python",
   "name": "python3"
  },
  "language_info": {
   "codemirror_mode": {
    "name": "ipython",
    "version": 3
   },
   "file_extension": ".py",
   "mimetype": "text/x-python",
   "name": "python",
   "nbconvert_exporter": "python",
   "pygments_lexer": "ipython3",
   "version": "3.9.6"
  }
 },
 "nbformat": 4,
 "nbformat_minor": 2
}
